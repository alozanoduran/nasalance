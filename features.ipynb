{
 "cells": [
  {
   "cell_type": "code",
   "execution_count": 118,
   "metadata": {},
   "outputs": [],
   "source": [
    "##### CONFIG\n",
    "\n",
    "import os\n",
    "\n",
    "\n",
    "# Carpetas que contienen los audios\n",
    "AUDIO_FOLDER = \"audio_database\"\n",
    "AUDIO_DATABASE = \"audios3m_test\"\n",
    "\n",
    "# Carpeta de salida\n",
    "RESULT_FOLDER = \"resultadosBaseDatos\"\n",
    "RESULT_DATABASE = \"pruebas_andres_25_oct.csv\"\n",
    "\n",
    "\n",
    "# Windows params in ms\n",
    "WIN_LENGTH = 25     # windows length\n",
    "WIN_OVERLAP = 10    # 10 ms of overlapping means it moves (25-10)ms = 15 ms with each step\n",
    "\n",
    "#https://www.kaggle.com/code/ilyamich/mfcc-implementation-and-tutorial/notebook\n",
    "#https://librosa.org/doc/latest/index.html\n",
    "\n",
    "\n",
    "#%% Opción de testeo\n",
    "#% Cuando se generan los datos de train se debe incluir la clase en la\n",
    "#% ventana\n",
    "#IS_TRAINING = true;\n",
    "\n",
    "\n",
    "#REDUCE_SILENCES = false;   % Si se quiere eliminar silencios (ASICA tiene demasiados)\n",
    "#SILENT_RATE = 0.2;         % Ratio que queda de silencios\n",
    "\n",
    "#% Si se quiere realizar la detección de silencios al inicio y al final se\n",
    "#% pone a true. Si no, a false.\n",
    "#DETECT_SILENCES = false;\n",
    "\n",
    "\n",
    "#% Ajuste de las vocales al 30% de las consonantes nasales\n",
    "#NV_PERCENT_AFTER_BEFORE = true;\n",
    "#NV_BEFORE = 0.3;  % antes\n",
    "#NV_AFTER = 0.0;   % después\n",
    "\n",
    "\n",
    "##### MFCC #####\n",
    "# Params for mfcc calculation\n",
    "NUM_MFCC = 13\n",
    "##### MFCC #####\n",
    "\n",
    "NUM_ZEROS_WINDOWS_MAX = 5\n",
    "\n",
    "COLUMNS_NAMES_SPEAKER = [\"speaker\", \"device\"] # define los nombres de los parámetros separados por '_', uno de ellos tiene que ser speaker\n",
    "\n",
    "\n",
    "#%% Definición de descriptores\n",
    "FEATURES_TO_CALCULATE = [\"mfcc\",\"delta\",\"deltaDelta\"]\n",
    "WIN_COLUMN_NAME = [\"window\"]\n",
    "\n",
    "#% Los descriptores que se pueden calcular:\n",
    "#% \"mfcc\"                mfcc\n",
    "#% \"delta\"               delta mfcc\n",
    "#% \"deltaDelta\"          delta delta\n",
    "#% \"vlhr\"                6 mfcc con frecuencia de corte 400,500,...,900 Hz\n",
    "#% \"formants\"            3 formantes frecuencia f1, f2, f3 Hz\n",
    "#% \"formantsBW\"          3 ancho de banda formantes Hz\n",
    "#% \"formantsDist\"        3 distancia entre formantes f1-f2, f1-f3, f2-f3 Hz\n",
    "#% \"f0\"                  3 frecuencia fundamental f0, 2xf0, 3xf0\n",
    "#% \"intensity\"           1 intensidad en dB como Praat\n",
    "\n",
    "\n",
    "# Tiers del textGrid, posiciones y significado\n",
    "TEXTGRID_TIER = ['WORDS','PHONES','NLCE','RMS']\n",
    "# Palabra (no necesario)\n",
    "# Fonemas\n",
    "# Nasalancia del fonema\n",
    "# RMS del intervalo del fonema\n",
    "\n",
    "\n",
    "\n",
    "## Ajustes previos a la ejecución\n",
    "if not os.path.exists(RESULT_FOLDER):\n",
    "    os.mkdir(RESULT_FOLDER)\n",
    "\n",
    "AUDIO_PATH = os.path.join(os.getcwd(),AUDIO_FOLDER,AUDIO_DATABASE)\n",
    "RESULT_PATH = os.path.join(os.getcwd(),RESULT_FOLDER,RESULT_DATABASE)\n",
    "RESULT_PATH_XLSX = RESULT_PATH.replace('.csv','.xlsx')\n",
    "\n",
    "MFCC_NAMES = [f\"mfcc{x}\" for x in range(0,NUM_MFCC)]\n",
    "DELTA_NAMES = [f\"delta{x}\" for x in range(0,NUM_MFCC)]\n",
    "DELTA_DELTA_NAMES = [f\"deltaDelta{x}\" for x in range(0,NUM_MFCC)]"
   ]
  },
  {
   "cell_type": "code",
   "execution_count": 2,
   "metadata": {},
   "outputs": [],
   "source": [
    "from scipy.io import wavfile\n",
    "import numpy as np\n",
    "import librosa          # https://librosa.org/doc/latest/index.html\n",
    "from pandas import DataFrame\n",
    "\n",
    "import textgrid\n",
    "from pathlib import Path\n",
    "import pandas as pd \n",
    "import numpy as np\n",
    "import os\n",
    "import re\n",
    "\n",
    "import csv\n",
    "\n",
    "from scipy.io.wavfile import write\n",
    "from scipy.io import wavfile \n",
    "\n",
    "from python_speech_features import mfcc     # https://python-speech-features.readthedocs.io/en/latest/\n",
    "from python_speech_features import delta\n",
    "\n",
    "import scipy.io.wavfile as wav"
   ]
  },
  {
   "cell_type": "code",
   "execution_count": 75,
   "metadata": {},
   "outputs": [],
   "source": [
    "def check_wav_textgrid(audio_folder):\n",
    "    ''' Comprueba que la carpeta audio_folder contiene archivos .wav y .textgrid en el mismo número.\n",
    "        Devuelve dos listas con los archivos ordenados \n",
    "    '''\n",
    "\n",
    "    audio_list = [os.path.join(audio_folder,file) for file in os.listdir(audio_folder) if file.endswith('.wav')]\n",
    "    textgrid_list = [os.path.join(audio_folder,file) for file in os.listdir(audio_folder) if file.endswith('.TextGrid')]\n",
    "\n",
    "    if not audio_list: # check if empty\n",
    "        print(f\"No hay archivos .wav en la carpeta: {audio_folder}\")\n",
    "        print(\"Introduce lo archivos .wav y vuelve a ejecutar el scipt.\")\n",
    "        exit(1)\n",
    "    elif not textgrid_list: # check if empty\n",
    "        print(f\"No hay archivos .TextGrid en la carpeta: {audio_folder}\")\n",
    "        print(\"Introduce lo archivos .TextGrid y vuelve a ejecutar el scipt.\")\n",
    "        exit(1)\n",
    "    elif len(audio_list) != len(textgrid_list): \n",
    "        print(f\"No hay el mismo número de archivos .wav que .TextGrid en la carpeta: {audio_folder}\")\n",
    "        print(\"Cada archivo .wav tiene que venir acompañado de su archivo .TextGrid. Introduce los archivos que falten y vuelve a ejecutar el script.\")\n",
    "        exit(1)\n",
    "    else:\n",
    "        print(f\"Número de archivos .wav y .TextGrid correcto, continúa la ejecución del script.\")\n",
    "\n",
    "    return sorted(audio_list), sorted(textgrid_list)\n",
    "\n",
    "\n",
    "def get_speakeraudio_file(audio_path):\n",
    "    ''' Genera un dataframe con la información que se puede extraer del nombre del usuario. \n",
    "        La información tiene que estar separada por '_' y el nombre de cada parámetro viene definido en COLUMNS_NAMES_SPEAKER\n",
    "    '''\n",
    "\n",
    "    speaker_list = (os.path.split(audio_path)[-1]).split('_') # (head,tail)\n",
    "    speaker_list[-1] = speaker_list[-1].replace('.wav','')\n",
    "    speaker_df = pd.DataFrame([speaker_list], columns = COLUMNS_NAMES_SPEAKER) \n",
    "\n",
    "    return speaker_df\n",
    "\n",
    "\n",
    "def moving_window_textgrid(audio, width=WIN_LENGTH, overlap=WIN_OVERLAP):\n",
    "    if type(audio) != list:\n",
    "        audio = audio.tolist()\n",
    "    return [max(set(audio[i : i + width]), key = audio[i : i + width].count) for i in range(0, len(audio), width-overlap)]\n",
    "\n",
    "\n",
    "def compute_mfcc(audio_data, samplerate):\n",
    "    ''' Calcula los mfcc en función de los parámetros definidos en config\n",
    "    '''\n",
    "    mfcc_feat = mfcc(signal=np.array(audio_data, dtype=np.single), samplerate=samplerate, \n",
    "                winlen=WIN_LENGTH*1e-3, winstep=(WIN_LENGTH-WIN_OVERLAP)*1e-3, numcep=NUM_MFCC, \n",
    "                nfilt=26, nfft=1024, lowfreq=0, highfreq=None, preemph=0.97, ceplifter=22, appendEnergy=True, winfunc=np.hamming)\n",
    "    return mfcc_feat\n",
    "\n",
    "\n",
    "def compute_delta(input_data, num_delta=2):\n",
    "    ''' Calcula los delta del mfcc en función de los parámetros definidos en config\n",
    "    '''\n",
    "    return( delta(input_data, 2) )"
   ]
  },
  {
   "cell_type": "code",
   "execution_count": 76,
   "metadata": {},
   "outputs": [
    {
     "name": "stdout",
     "output_type": "stream",
     "text": [
      "Número de archivos .wav y .TextGrid correcto, continúa la ejecución del script.\n",
      "Base de datos a generar: d:\\OneDrive\\nasalance\\resultadosBaseDatos\\pruebas_andres_25_oct.csv\n",
      "Existe la base de datos\n"
     ]
    }
   ],
   "source": [
    "## MAIN\n",
    "\n",
    "# def main():\n",
    "\n",
    "# Se comprueba que la carpeta AUDIO_PATH contiene archivos .was y .textgrid\n",
    "audio_list, textgrid_list = check_wav_textgrid(AUDIO_PATH)\n",
    "\n",
    "# Se comprueba si existe la base de datos que se va a generar\n",
    "print(f\"Base de datos a generar: {RESULT_PATH}\")\n",
    "\n",
    "if os.path.exists(RESULT_PATH):\n",
    "    print(\"Existe la base de datos\")\n",
    "\n",
    "    # nomBDstr=str(nombreBaseDatos)\n",
    "    # print(\"La BD existe\")\n",
    "    # featuresTodosIntervalos=pd.read_csv(nombreBaseDatos)\n",
    "    # listaLocutores=calculaLocutores(featuresTodosIntervalos)\n",
    "    # print(\"Lista de locutores analizados anteriormente:\")\n",
    "    # for l in listaLocutores:\n",
    "    #     print(l)\n",
    "    # totalVentanas=len(featuresTodosIntervalos['Row'])\n",
    "    # print(\"Número de ventanas en la BD original: \",totalVentanas)\n",
    "else:\n",
    "    print(\"La base de datos NO existe. Se crea una nueva.\")\n",
    "\n",
    "    speakers_list = []\n",
    "    features_already_generated = []\n",
    "    \n",
    "    # listaLocutores=[]\n",
    "    # featuresTodosIntervalos=[]\n",
    "    # totalVentanas=0\n",
    "    # feature_list = []\n",
    "    #compute_audio_features()\n",
    "\n",
    "    # https://stackoverflow.com/questions/13784192/creating-an-empty-pandas-dataframe-and-then-filling-it\n",
    "\n",
    "# ANTES DE CALCULAR LOS ELEMENTOS HAY QUE COMPROBAR QUE FEATURES_TO_CALCULATE NO ESTÁ VACÍA\n"
   ]
  },
  {
   "cell_type": "code",
   "execution_count": 185,
   "metadata": {},
   "outputs": [
    {
     "name": "stdout",
     "output_type": "stream",
     "text": [
      "Locutor nas20001 NUEVO. Se calculan los descriptores.\n",
      "Calculando Textgrid.\n",
      "Locutor nas20002 NUEVO. Se calculan los descriptores.\n",
      "Calculando Textgrid.\n",
      "Locutor nas20003 NUEVO. Se calculan los descriptores.\n",
      "Calculando Textgrid.\n",
      "\n",
      "FIN calculo descriptores\n"
     ]
    }
   ],
   "source": [
    "features_calculated_forloop = [] # descriptores calculados al finalizar el bucle for\n",
    "\n",
    "\n",
    "for audio_file, textgrid_file in zip(audio_list,textgrid_list):\n",
    "\n",
    "    features_calculated_speaker = [] # descriptores calculados para este speaker\n",
    "\n",
    "    # Datos que se generan para cada audio \n",
    "    speaker_info_df = get_speakeraudio_file(audio_file)\n",
    "    spk_loop = speaker_info_df[\"speaker\"].values[0]\n",
    "\n",
    "    # Comprueba si el speaker se encuentra en la base de datos\n",
    "    if spk_loop in speakers_list:\n",
    "        print(f\"Locutor {spk_loop} ya se encuentra en la base de datos. Pasamos al siguiente.\")\n",
    "    else:\n",
    "        print(f\"Locutor {spk_loop} NUEVO. Se calculan los descriptores.\")\n",
    "\n",
    "        # Se lee el audio\n",
    "        samplerate, audio_data = wavfile.read(audio_file)\n",
    "\n",
    "\n",
    "        ## Primero se calculan los descriptores\n",
    "        # MFCC\n",
    "        if 'mfcc' in FEATURES_TO_CALCULATE:\n",
    "            mfcc_feat = compute_mfcc(audio_data, samplerate)\n",
    "            features_calculated_speaker.append(mfcc_feat)\n",
    "\n",
    "        # Delta\n",
    "        if ('mfcc' in FEATURES_TO_CALCULATE) and ('delta' in FEATURES_TO_CALCULATE):\n",
    "            delta_feat = compute_delta(mfcc_feat, num_delta=2)\n",
    "            features_calculated_speaker.append(delta_feat)\n",
    "\n",
    "        # Delta delta\n",
    "        if ('mfcc' in FEATURES_TO_CALCULATE) and ('delta' in FEATURES_TO_CALCULATE) and ('deltaDelta' in FEATURES_TO_CALCULATE):\n",
    "            delta_delta_feat = compute_delta(delta_feat, num_delta=2)\n",
    "            features_calculated_speaker.append(delta_delta_feat)\n",
    "\n",
    "        # Completar resto de descriptores\n",
    "        # POR COMPLETAR\n",
    "\n",
    "\n",
    "\n",
    "        ## Número de ventanas\n",
    "        increasing_win_index = [f\"w{str(x).zfill(NUM_ZEROS_WINDOWS_MAX)}\" for x in range(0,features_calculated_speaker[0].shape[0])]\n",
    "        features_calculated_speaker.insert(0, np.c_[increasing_win_index])    \n",
    "            \n",
    "\n",
    "        ## Datos del locutor\n",
    "        # Los datos del locutor se introducen en sentido inverso para que aparezcan al principio\n",
    "        for elem in reversed(speaker_info_df.columns): \n",
    "            features_calculated_speaker.insert(0, np.full((features_calculated_speaker[0].shape[0], 1), speaker_info_df[elem]))\n",
    "\n",
    "\n",
    "        ## Textgrid\n",
    "        textgrid_features = compute_textgrid(textgrid_file, samplerate, len(features_calculated_speaker[0]))\n",
    "        features_calculated_speaker.append(textgrid_features)\n",
    "\n",
    "\n",
    "        ## Datos de clase\n",
    "\n",
    "\n",
    "        # Se concatenan por columnas [A B C D]\n",
    "        # features_calculated_speaker es un array de columnas\n",
    "        features_calculated_forloop.append(np.concatenate(features_calculated_speaker, axis=1)) # se concatenan por columnas [A B C D]\n",
    "    #end if\n",
    "# end for\n",
    "\n",
    "# Se concatenan por filas [A \n",
    "#                          B] y se convierte en un único array\n",
    "features_calculated_rows = np.concatenate(features_calculated_forloop, axis=0)\n",
    "\n",
    "# Se convierte a dataframe \n",
    "features_df = pd.DataFrame(features_calculated_rows, \n",
    "                            columns = [list(speaker_info_df.columns) + WIN_COLUMN_NAME + MFCC_NAMES + DELTA_NAMES + DELTA_DELTA_NAMES][0] + TEXTGRID_TIER)\n",
    "\n",
    "# Se guarda como csv\n",
    "features_df.to_csv(RESULT_PATH, encoding='utf8', index=False)  \n",
    "\n",
    "print(f\"\\nFIN calculo descriptores\") "
   ]
  },
  {
   "cell_type": "code",
   "execution_count": 184,
   "metadata": {},
   "outputs": [
    {
     "data": {
      "text/html": [
       "<div>\n",
       "<style scoped>\n",
       "    .dataframe tbody tr th:only-of-type {\n",
       "        vertical-align: middle;\n",
       "    }\n",
       "\n",
       "    .dataframe tbody tr th {\n",
       "        vertical-align: top;\n",
       "    }\n",
       "\n",
       "    .dataframe thead th {\n",
       "        text-align: right;\n",
       "    }\n",
       "</style>\n",
       "<table border=\"1\" class=\"dataframe\">\n",
       "  <thead>\n",
       "    <tr style=\"text-align: right;\">\n",
       "      <th></th>\n",
       "      <th>speaker</th>\n",
       "      <th>device</th>\n",
       "      <th>window</th>\n",
       "      <th>mfcc0</th>\n",
       "      <th>mfcc1</th>\n",
       "      <th>mfcc2</th>\n",
       "      <th>mfcc3</th>\n",
       "      <th>mfcc4</th>\n",
       "      <th>mfcc5</th>\n",
       "      <th>mfcc6</th>\n",
       "      <th>...</th>\n",
       "      <th>deltaDelta7</th>\n",
       "      <th>deltaDelta8</th>\n",
       "      <th>deltaDelta9</th>\n",
       "      <th>deltaDelta10</th>\n",
       "      <th>deltaDelta11</th>\n",
       "      <th>deltaDelta12</th>\n",
       "      <th>WORDS</th>\n",
       "      <th>PHONES</th>\n",
       "      <th>NLCE</th>\n",
       "      <th>RMS</th>\n",
       "    </tr>\n",
       "  </thead>\n",
       "  <tbody>\n",
       "    <tr>\n",
       "      <th>0</th>\n",
       "      <td>nas20001</td>\n",
       "      <td>iphone</td>\n",
       "      <td>w00000</td>\n",
       "      <td>9.166181</td>\n",
       "      <td>-23.231655</td>\n",
       "      <td>-6.049424</td>\n",
       "      <td>-4.11619</td>\n",
       "      <td>-4.747366</td>\n",
       "      <td>-3.538267</td>\n",
       "      <td>-3.089952</td>\n",
       "      <td>...</td>\n",
       "      <td>0.257634</td>\n",
       "      <td>-0.010671</td>\n",
       "      <td>1.208101</td>\n",
       "      <td>1.037282</td>\n",
       "      <td>1.19364</td>\n",
       "      <td>0.48146</td>\n",
       "      <td></td>\n",
       "      <td></td>\n",
       "      <td></td>\n",
       "      <td>25</td>\n",
       "    </tr>\n",
       "    <tr>\n",
       "      <th>1</th>\n",
       "      <td>nas20001</td>\n",
       "      <td>iphone</td>\n",
       "      <td>w00001</td>\n",
       "      <td>8.59443</td>\n",
       "      <td>-18.461415</td>\n",
       "      <td>-7.247664</td>\n",
       "      <td>0.486281</td>\n",
       "      <td>-1.830832</td>\n",
       "      <td>6.670384</td>\n",
       "      <td>8.372136</td>\n",
       "      <td>...</td>\n",
       "      <td>0.888357</td>\n",
       "      <td>-0.006112</td>\n",
       "      <td>1.7736</td>\n",
       "      <td>0.608121</td>\n",
       "      <td>1.66106</td>\n",
       "      <td>1.47106</td>\n",
       "      <td></td>\n",
       "      <td></td>\n",
       "      <td></td>\n",
       "      <td>25</td>\n",
       "    </tr>\n",
       "    <tr>\n",
       "      <th>2</th>\n",
       "      <td>nas20001</td>\n",
       "      <td>iphone</td>\n",
       "      <td>w00002</td>\n",
       "      <td>8.277615</td>\n",
       "      <td>-19.190404</td>\n",
       "      <td>-8.235758</td>\n",
       "      <td>0.463294</td>\n",
       "      <td>-1.16536</td>\n",
       "      <td>-4.990079</td>\n",
       "      <td>-7.993775</td>\n",
       "      <td>...</td>\n",
       "      <td>1.262788</td>\n",
       "      <td>-0.236115</td>\n",
       "      <td>2.268397</td>\n",
       "      <td>0.746853</td>\n",
       "      <td>1.844205</td>\n",
       "      <td>1.706149</td>\n",
       "      <td></td>\n",
       "      <td></td>\n",
       "      <td></td>\n",
       "      <td>25</td>\n",
       "    </tr>\n",
       "    <tr>\n",
       "      <th>3</th>\n",
       "      <td>nas20001</td>\n",
       "      <td>iphone</td>\n",
       "      <td>w00003</td>\n",
       "      <td>7.866211</td>\n",
       "      <td>-13.83648</td>\n",
       "      <td>-5.748606</td>\n",
       "      <td>5.953777</td>\n",
       "      <td>-1.23124</td>\n",
       "      <td>-11.587506</td>\n",
       "      <td>-15.052852</td>\n",
       "      <td>...</td>\n",
       "      <td>0.16513</td>\n",
       "      <td>-0.601665</td>\n",
       "      <td>0.906591</td>\n",
       "      <td>-0.011343</td>\n",
       "      <td>1.020805</td>\n",
       "      <td>1.146006</td>\n",
       "      <td></td>\n",
       "      <td></td>\n",
       "      <td></td>\n",
       "      <td>25</td>\n",
       "    </tr>\n",
       "    <tr>\n",
       "      <th>4</th>\n",
       "      <td>nas20001</td>\n",
       "      <td>iphone</td>\n",
       "      <td>w00004</td>\n",
       "      <td>7.982168</td>\n",
       "      <td>-13.16407</td>\n",
       "      <td>-6.478522</td>\n",
       "      <td>3.025342</td>\n",
       "      <td>6.359977</td>\n",
       "      <td>9.949424</td>\n",
       "      <td>5.697837</td>\n",
       "      <td>...</td>\n",
       "      <td>-1.92295</td>\n",
       "      <td>-1.766915</td>\n",
       "      <td>-1.608825</td>\n",
       "      <td>-0.088923</td>\n",
       "      <td>0.574471</td>\n",
       "      <td>0.338284</td>\n",
       "      <td></td>\n",
       "      <td></td>\n",
       "      <td></td>\n",
       "      <td>25</td>\n",
       "    </tr>\n",
       "  </tbody>\n",
       "</table>\n",
       "<p>5 rows × 46 columns</p>\n",
       "</div>"
      ],
      "text/plain": [
       "    speaker  device  window     mfcc0      mfcc1     mfcc2     mfcc3  \\\n",
       "0  nas20001  iphone  w00000  9.166181 -23.231655 -6.049424  -4.11619   \n",
       "1  nas20001  iphone  w00001   8.59443 -18.461415 -7.247664  0.486281   \n",
       "2  nas20001  iphone  w00002  8.277615 -19.190404 -8.235758  0.463294   \n",
       "3  nas20001  iphone  w00003  7.866211  -13.83648 -5.748606  5.953777   \n",
       "4  nas20001  iphone  w00004  7.982168  -13.16407 -6.478522  3.025342   \n",
       "\n",
       "      mfcc4      mfcc5      mfcc6  ... deltaDelta7 deltaDelta8 deltaDelta9  \\\n",
       "0 -4.747366  -3.538267  -3.089952  ...    0.257634   -0.010671    1.208101   \n",
       "1 -1.830832   6.670384   8.372136  ...    0.888357   -0.006112      1.7736   \n",
       "2  -1.16536  -4.990079  -7.993775  ...    1.262788   -0.236115    2.268397   \n",
       "3  -1.23124 -11.587506 -15.052852  ...     0.16513   -0.601665    0.906591   \n",
       "4  6.359977   9.949424   5.697837  ...    -1.92295   -1.766915   -1.608825   \n",
       "\n",
       "  deltaDelta10 deltaDelta11 deltaDelta12 WORDS PHONES NLCE RMS  \n",
       "0     1.037282      1.19364      0.48146                    25  \n",
       "1     0.608121      1.66106      1.47106                    25  \n",
       "2     0.746853     1.844205     1.706149                    25  \n",
       "3    -0.011343     1.020805     1.146006                    25  \n",
       "4    -0.088923     0.574471     0.338284                    25  \n",
       "\n",
       "[5 rows x 46 columns]"
      ]
     },
     "execution_count": 184,
     "metadata": {},
     "output_type": "execute_result"
    }
   ],
   "source": [
    "features_df.head()"
   ]
  },
  {
   "cell_type": "code",
   "execution_count": 187,
   "metadata": {},
   "outputs": [
    {
     "data": {
      "text/plain": [
       "['',\n",
       " 'x',\n",
       " 'p',\n",
       " 'b',\n",
       " 'j',\n",
       " 'o',\n",
       " 'l',\n",
       " 't̪',\n",
       " 'i',\n",
       " 'a',\n",
       " 'tʃ',\n",
       " 'k',\n",
       " 'u',\n",
       " 'n',\n",
       " 'β',\n",
       " 'ŋ',\n",
       " 'ɲ',\n",
       " 'ð',\n",
       " 'ɾ',\n",
       " 'ʝ',\n",
       " 'r',\n",
       " 'm',\n",
       " 'e',\n",
       " 'ɣ',\n",
       " 's',\n",
       " 'd̪',\n",
       " 'θ',\n",
       " 'f',\n",
       " 'w',\n",
       " 'spn']"
      ]
     },
     "execution_count": 187,
     "metadata": {},
     "output_type": "execute_result"
    }
   ],
   "source": [
    "list(set(features_df['PHONES']))"
   ]
  },
  {
   "cell_type": "code",
   "execution_count": 57,
   "metadata": {},
   "outputs": [
    {
     "name": "stdout",
     "output_type": "stream",
     "text": [
      "<class 'pandas.core.frame.DataFrame'>\n",
      "RangeIndex: 9761 entries, 0 to 9760\n",
      "Data columns (total 45 columns):\n",
      " #   Column        Non-Null Count  Dtype \n",
      "---  ------        --------------  ----- \n",
      " 0   speaker       9761 non-null   object\n",
      " 1   device        9761 non-null   object\n",
      " 2   mfcc0         9761 non-null   object\n",
      " 3   mfcc1         9761 non-null   object\n",
      " 4   mfcc2         9761 non-null   object\n",
      " 5   mfcc3         9761 non-null   object\n",
      " 6   mfcc4         9761 non-null   object\n",
      " 7   mfcc5         9761 non-null   object\n",
      " 8   mfcc6         9761 non-null   object\n",
      " 9   mfcc7         9761 non-null   object\n",
      " 10  mfcc8         9761 non-null   object\n",
      " 11  mfcc9         9761 non-null   object\n",
      " 12  mfcc10        9761 non-null   object\n",
      " 13  mfcc11        9761 non-null   object\n",
      " 14  mfcc12        9761 non-null   object\n",
      " 15  delta0        9761 non-null   object\n",
      " 16  delta1        9761 non-null   object\n",
      " 17  delta2        9761 non-null   object\n",
      " 18  delta3        9761 non-null   object\n",
      " 19  delta4        9761 non-null   object\n",
      " 20  delta5        9761 non-null   object\n",
      " 21  delta6        9761 non-null   object\n",
      " 22  delta7        9761 non-null   object\n",
      " 23  delta8        9761 non-null   object\n",
      " 24  delta9        9761 non-null   object\n",
      " 25  delta10       9761 non-null   object\n",
      " 26  delta11       9761 non-null   object\n",
      " 27  delta12       9761 non-null   object\n",
      " 28  deltaDelta0   9761 non-null   object\n",
      " 29  deltaDelta1   9761 non-null   object\n",
      " 30  deltaDelta2   9761 non-null   object\n",
      " 31  deltaDelta3   9761 non-null   object\n",
      " 32  deltaDelta4   9761 non-null   object\n",
      " 33  deltaDelta5   9761 non-null   object\n",
      " 34  deltaDelta6   9761 non-null   object\n",
      " 35  deltaDelta7   9761 non-null   object\n",
      " 36  deltaDelta8   9761 non-null   object\n",
      " 37  deltaDelta9   9761 non-null   object\n",
      " 38  deltaDelta10  9761 non-null   object\n",
      " 39  deltaDelta11  9761 non-null   object\n",
      " 40  deltaDelta12  9761 non-null   object\n",
      " 41  WORDS         9761 non-null   object\n",
      " 42  PHONES        9761 non-null   object\n",
      " 43  NLCE          9761 non-null   object\n",
      " 44  RMS           9761 non-null   object\n",
      "dtypes: object(45)\n",
      "memory usage: 3.4+ MB\n"
     ]
    }
   ],
   "source": [
    "features_df.info()"
   ]
  },
  {
   "cell_type": "code",
   "execution_count": 126,
   "metadata": {},
   "outputs": [
    {
     "data": {
      "text/plain": [
       "[array([['nas20001'],\n",
       "        ['nas20001'],\n",
       "        ['nas20001'],\n",
       "        ...,\n",
       "        ['nas20001'],\n",
       "        ['nas20001'],\n",
       "        ['nas20001']], dtype=object),\n",
       " array([['iphone'],\n",
       "        ['iphone'],\n",
       "        ['iphone'],\n",
       "        ...,\n",
       "        ['iphone'],\n",
       "        ['iphone'],\n",
       "        ['iphone']], dtype=object),\n",
       " array([['w00000'],\n",
       "        ['w00001'],\n",
       "        ['w00002'],\n",
       "        ...,\n",
       "        ['w09758'],\n",
       "        ['w09759'],\n",
       "        ['w09760']], dtype='<U6'),\n",
       " array([[  9.16618058, -23.23165494,  -6.04942365, ...,  -8.76536719,\n",
       "          14.29689517,  12.92363629],\n",
       "        [  8.59442981, -18.46141468,  -7.24766387, ...,  -9.94934649,\n",
       "          -5.81185816,  -4.07516825],\n",
       "        [  8.27761455, -19.19040359,  -8.2357577 , ..., -17.06369262,\n",
       "          -2.83458349,  -1.84896261],\n",
       "        ...,\n",
       "        [ 11.30995274, -14.98008319,  -1.27029878, ...,  -4.64522826,\n",
       "           6.86139528,  -8.59116388],\n",
       "        [  9.83066789,  -7.91525265, -10.87601195, ...,  -7.1152238 ,\n",
       "          -1.63777043,  -4.17521441],\n",
       "        [  6.95570923,  -6.50448628,  -8.42694125, ...,  -9.89262597,\n",
       "           6.59126181,  -5.19331765]]),\n",
       " array([[-0.23488828,  1.2852743 , -0.55709083, ..., -1.77806302,\n",
       "         -5.43717107, -4.65440023],\n",
       "        [-0.34885048,  2.28316005, -0.15846979, ...,  1.52777828,\n",
       "         -2.65933316, -3.86664561],\n",
       "        [-0.30962443,  2.47601033,  0.06408618, ...,  1.7554278 ,\n",
       "         -0.85789088, -2.64097595],\n",
       "        ...,\n",
       "        [-0.53986071, -0.79050005,  0.16443246, ..., -2.59656805,\n",
       "          0.39816261,  0.98946378],\n",
       "        [-1.00364848,  0.56447648, -0.96614414, ..., -1.60593447,\n",
       "          2.57271898,  0.97841625],\n",
       "        [-1.15834457,  1.83619602, -1.18642142, ..., -1.32721976,\n",
       "          0.76887653,  0.57775892]]),\n",
       " array([[-2.63434487e-02,  3.37935783e-01,  1.64097506e-01, ...,\n",
       "          1.03728229e+00,  1.19363983e+00,  4.81460320e-01],\n",
       "        [ 2.19255761e-04,  1.37699878e-01,  1.66554909e-01, ...,\n",
       "          6.08120597e-01,  1.66106030e+00,  1.47106022e+00],\n",
       "        [ 4.43163654e-02, -1.45604872e-01,  1.57580128e-01, ...,\n",
       "          7.46852630e-01,  1.84420519e+00,  1.70614924e+00],\n",
       "        ...,\n",
       "        [-4.41560503e-01,  7.85018042e-01, -1.09047662e+00, ...,\n",
       "          6.25636620e-01,  6.78635631e-01,  8.21036473e-01],\n",
       "        [-3.41415238e-01,  9.34435243e-01, -6.41073013e-01, ...,\n",
       "          7.58106273e-01,  8.19347283e-01,  4.13421513e-01],\n",
       "        [-1.39166380e-01,  6.52511169e-01, -2.92198505e-01, ...,\n",
       "          2.81741129e-01, -1.06241462e-01, -1.22406705e-01]])]"
      ]
     },
     "execution_count": 126,
     "metadata": {},
     "output_type": "execute_result"
    }
   ],
   "source": [
    "features_calculated_speaker"
   ]
  },
  {
   "cell_type": "code",
   "execution_count": 10,
   "metadata": {},
   "outputs": [],
   "source": [
    "\n"
   ]
  },
  {
   "cell_type": "code",
   "execution_count": 11,
   "metadata": {},
   "outputs": [
    {
     "data": {
      "text/html": [
       "<div>\n",
       "<style scoped>\n",
       "    .dataframe tbody tr th:only-of-type {\n",
       "        vertical-align: middle;\n",
       "    }\n",
       "\n",
       "    .dataframe tbody tr th {\n",
       "        vertical-align: top;\n",
       "    }\n",
       "\n",
       "    .dataframe thead tr th {\n",
       "        text-align: left;\n",
       "    }\n",
       "</style>\n",
       "<table border=\"1\" class=\"dataframe\">\n",
       "  <thead>\n",
       "    <tr>\n",
       "      <th></th>\n",
       "      <th>WORDS</th>\n",
       "      <th>PHONES</th>\n",
       "      <th>NLCE</th>\n",
       "      <th>RMS</th>\n",
       "    </tr>\n",
       "  </thead>\n",
       "  <tbody>\n",
       "  </tbody>\n",
       "</table>\n",
       "</div>"
      ],
      "text/plain": [
       "Empty DataFrame\n",
       "Columns: [(WORDS,), (PHONES,), (NLCE,), (RMS,)]\n",
       "Index: []"
      ]
     },
     "execution_count": 11,
     "metadata": {},
     "output_type": "execute_result"
    }
   ],
   "source": [
    "textgrid_global = []\n",
    "textgrid_df = pd.DataFrame(textgrid_global, columns = [TEXTGRID_TIER])\n",
    "textgrid_df.head()"
   ]
  },
  {
   "cell_type": "code",
   "execution_count": 146,
   "metadata": {},
   "outputs": [
    {
     "data": {
      "text/plain": [
       "'d:\\\\OneDrive\\\\nasalance\\\\audio_database\\\\audios3m_test\\\\nas20001_iphone.TextGrid'"
      ]
     },
     "execution_count": 146,
     "metadata": {},
     "output_type": "execute_result"
    }
   ],
   "source": [
    "textgrid_file"
   ]
  },
  {
   "cell_type": "code",
   "execution_count": 147,
   "metadata": {},
   "outputs": [
    {
     "data": {
      "text/plain": [
       "9761"
      ]
     },
     "execution_count": 147,
     "metadata": {},
     "output_type": "execute_result"
    }
   ],
   "source": [
    "len(features_calculated_speaker[0])"
   ]
  },
  {
   "cell_type": "code",
   "execution_count": 183,
   "metadata": {},
   "outputs": [],
   "source": [
    "def compute_textgrid(textgrid_file, samplerate, len_audio):\n",
    "\n",
    "    print(\"Calculando Textgrid.\")\n",
    "    tg = textgrid.TextGrid.fromFile(textgrid_file)\n",
    "\n",
    "    win_length_samples = int(WIN_LENGTH * samplerate / 1000) # ms\n",
    "    win_overlap_samples = int(WIN_OVERLAP * samplerate / 1000) # ms\n",
    "\n",
    "    txtgrid_speaker = []\n",
    "\n",
    "    for interval_tier in tg:\n",
    "        #print(f\"Calculando IntervalTier {re.search('IntervalTier (.*), ', str(interval_tier)).group(1)}\")\n",
    "        tier_list = []\n",
    "\n",
    "        for interval in interval_tier: # last annotation is invalid\n",
    "            tier_list += [interval.mark]*int(np.round((interval.maxTime-interval.minTime)*samplerate))\n",
    "        # end for\n",
    "\n",
    "        win_tier_list = moving_window_textgrid(tier_list, win_length_samples, win_overlap_samples)\n",
    "        txtgrid_speaker.append(win_tier_list[0:len_audio])\n",
    "    # end for\n",
    "\n",
    "    # Con la misma longitud y se convierten en las listas en columnas\n",
    "    txtgrid_speaker = list(map(list, zip(*txtgrid_speaker)))\n",
    "    np_speaker=np.array(txtgrid_speaker)\n",
    "\n",
    "    return np_speaker"
   ]
  },
  {
   "cell_type": "code",
   "execution_count": 172,
   "metadata": {},
   "outputs": [
    {
     "name": "stdout",
     "output_type": "stream",
     "text": [
      "Calculando Textgrid 9761\n",
      "Calculando IntervalTier words\n",
      "9849\n",
      "Calculando IntervalTier phones\n",
      "9849\n",
      "Calculando IntervalTier PhonesNasalance\n",
      "9849\n",
      "Calculando IntervalTier totalRms\n",
      "9849\n"
     ]
    }
   ],
   "source": [
    "textgrid_features = compute_textgrid(textgrid_file, samplerate, len(features_calculated_speaker[0]))\n"
   ]
  },
  {
   "cell_type": "code",
   "execution_count": 174,
   "metadata": {},
   "outputs": [
    {
     "data": {
      "text/plain": [
       "9761"
      ]
     },
     "execution_count": 174,
     "metadata": {},
     "output_type": "execute_result"
    }
   ],
   "source": [
    "len(textgrid_features)"
   ]
  },
  {
   "cell_type": "code",
   "execution_count": 161,
   "metadata": {},
   "outputs": [
    {
     "data": {
      "text/plain": [
       "9849"
      ]
     },
     "execution_count": 161,
     "metadata": {},
     "output_type": "execute_result"
    }
   ],
   "source": [
    "len(textgrid_features)"
   ]
  },
  {
   "cell_type": "code",
   "execution_count": null,
   "metadata": {},
   "outputs": [],
   "source": []
  },
  {
   "cell_type": "code",
   "execution_count": null,
   "metadata": {},
   "outputs": [],
   "source": []
  },
  {
   "cell_type": "code",
   "execution_count": 39,
   "metadata": {},
   "outputs": [
    {
     "data": {
      "text/plain": [
       "9761"
      ]
     },
     "execution_count": 39,
     "metadata": {},
     "output_type": "execute_result"
    }
   ],
   "source": [
    "len_audio"
   ]
  },
  {
   "cell_type": "code",
   "execution_count": 40,
   "metadata": {},
   "outputs": [
    {
     "name": "stdout",
     "output_type": "stream",
     "text": [
      "4\n",
      "4\n",
      "4\n",
      "4\n"
     ]
    }
   ],
   "source": [
    "print(len(np_speaker[0]))\n",
    "print(len(np_speaker[1]))\n",
    "print(len(np_speaker[2]))\n",
    "print(len(np_speaker[3]))"
   ]
  },
  {
   "cell_type": "code",
   "execution_count": 41,
   "metadata": {},
   "outputs": [
    {
     "data": {
      "text/plain": [
       "array([['', '', '', '25'],\n",
       "       ['', '', '', '25'],\n",
       "       ['', '', '', '25'],\n",
       "       ...,\n",
       "       ['', '', '', '1'],\n",
       "       ['', '', '', '1'],\n",
       "       ['', '', '', '1']], dtype='<U13')"
      ]
     },
     "execution_count": 41,
     "metadata": {},
     "output_type": "execute_result"
    }
   ],
   "source": [
    "np_speaker"
   ]
  },
  {
   "cell_type": "code",
   "execution_count": 89,
   "metadata": {},
   "outputs": [
    {
     "data": {
      "text/plain": [
       "3259872.0"
      ]
     },
     "execution_count": 89,
     "metadata": {},
     "output_type": "execute_result"
    }
   ],
   "source": [
    "audio = ['a']*10000\n"
   ]
  },
  {
   "cell_type": "code",
   "execution_count": 15,
   "metadata": {},
   "outputs": [
    {
     "name": "stdout",
     "output_type": "stream",
     "text": [
      "551\n",
      "220\n"
     ]
    }
   ],
   "source": []
  },
  {
   "cell_type": "code",
   "execution_count": 16,
   "metadata": {},
   "outputs": [],
   "source": [
    "win_tier_list = moving_window_textgrid(tier_list, win_length_samples, win_overlap_samples)"
   ]
  },
  {
   "cell_type": "code",
   "execution_count": 17,
   "metadata": {},
   "outputs": [
    {
     "name": "stdout",
     "output_type": "stream",
     "text": [
      "el audio tiene 3230870 muestras\n",
      "el textgrid generado tiene 3230857 muestras\n",
      "la diferencia es 13 muestras\n",
      "\n",
      "el mfcc tiene 9761 ventanas\n",
      "el textgrid generado tiene 9761 ventanas\n"
     ]
    }
   ],
   "source": [
    "print(f\"el audio tiene {len(audio_data)} muestras\")\n",
    "print(f\"el textgrid generado tiene {len(tier_list)} muestras\")\n",
    "print(f\"la diferencia es {len(audio_data)-len(tier_list)} muestras\")\n",
    "\n",
    "\n",
    "print(f\"\\nel mfcc tiene {len(features_df.index)} ventanas\")\n",
    "print(f\"el textgrid generado tiene {len(win_tier_list)} ventanas\")"
   ]
  },
  {
   "cell_type": "code",
   "execution_count": null,
   "metadata": {},
   "outputs": [],
   "source": []
  },
  {
   "cell_type": "code",
   "execution_count": null,
   "metadata": {},
   "outputs": [],
   "source": []
  },
  {
   "cell_type": "code",
   "execution_count": null,
   "metadata": {},
   "outputs": [],
   "source": []
  },
  {
   "cell_type": "code",
   "execution_count": null,
   "metadata": {},
   "outputs": [],
   "source": []
  },
  {
   "cell_type": "code",
   "execution_count": null,
   "metadata": {},
   "outputs": [],
   "source": []
  },
  {
   "cell_type": "code",
   "execution_count": null,
   "metadata": {},
   "outputs": [],
   "source": []
  },
  {
   "cell_type": "code",
   "execution_count": null,
   "metadata": {},
   "outputs": [],
   "source": []
  },
  {
   "cell_type": "code",
   "execution_count": 14,
   "metadata": {},
   "outputs": [
    {
     "name": "stdout",
     "output_type": "stream",
     "text": [
      "(14, 9761)\n"
     ]
    }
   ],
   "source": [
    "# LIBROSA\n",
    "f_mfcc = librosa.feature.mfcc(y=np.array(audio_data, dtype=np.single), sr=samplerate, n_mfcc=NUM_MFCC, \n",
    "                            win_length=win_length_samples, hop_length=(win_length_samples-win_overlap_samples))\n",
    "\n",
    "print(f_mfcc.shape)"
   ]
  },
  {
   "cell_type": "code",
   "execution_count": 17,
   "metadata": {},
   "outputs": [
    {
     "name": "stdout",
     "output_type": "stream",
     "text": [
      "(9761, 14)\n"
     ]
    }
   ],
   "source": [
    "mfcc_feat = mfcc(signal=np.array(audio_data, dtype=np.single), samplerate=samplerate, \n",
    "                winlen=WIN_LENGTH*1e-3, winstep=(WIN_LENGTH-WIN_OVERLAP)*1e-3, numcep=NUM_MFCC, \n",
    "                nfilt=26, nfft=1024, lowfreq=0, highfreq=None, preemph=0.97, ceplifter=22, appendEnergy=True, winfunc=np.hamming)\n",
    "\n",
    "print(mfcc_feat.shape)"
   ]
  },
  {
   "cell_type": "code",
   "execution_count": 22,
   "metadata": {},
   "outputs": [
    {
     "name": "stdout",
     "output_type": "stream",
     "text": [
      "[ 3.7847467e+02  3.4444511e+01  2.2362719e+01  1.5456270e+01\n",
      "  1.0243723e+01  8.4755859e+00  7.3981838e+00  3.4129996e+00\n",
      " -8.0048013e-01 -2.6222309e-01 -9.6232146e-01  5.0894299e+00\n",
      "  8.5226669e+00  7.7294846e+00]\n",
      "[  9.16618058 -23.23165494  -6.04942365  -4.11618962  -4.74736627\n",
      "  -3.53826707  -3.08995233   4.67442104 -23.19542051  11.88455044\n",
      "  -8.76536719  14.29689517  12.92363629   1.83140325]\n"
     ]
    }
   ],
   "source": [
    "print(f_mfcc[:,0])\n",
    "print(mfcc_feat[0,:])"
   ]
  },
  {
   "cell_type": "code",
   "execution_count": 15,
   "metadata": {},
   "outputs": [
    {
     "data": {
      "text/plain": [
       "0.025"
      ]
     },
     "execution_count": 15,
     "metadata": {},
     "output_type": "execute_result"
    }
   ],
   "source": [
    "WIN_LENGTH*1e-3"
   ]
  },
  {
   "cell_type": "code",
   "execution_count": null,
   "metadata": {},
   "outputs": [],
   "source": [
    "#  Empiezan los cálculos para cada archivo\n",
    "for file in audiosAsica:\n",
    "\tfileStr=str(file)\n",
    "\tcontador=1\n",
    "\n",
    "\truta, archivoAudio = os.path.split(file)\n",
    "\ttextGridStr=fileStr.replace(\".wav\",\".TextGrid\")\n",
    "\trate,sig = wavfile.read(file)\n",
    "\n",
    "\tif archivoAudio.endswith(\".wav\"):\n",
    "\t\tarchivoAudio=archivoAudio[:-4]\n",
    "\tprint(\"Nuevo locutor: \", archivoAudio)\n",
    "\tif (archivoAudio in listaLocutores):\n",
    "\t\tprint(\"-- Locutor repetido. Pasamos al siguiente\")\n",
    "\t\tcontinue\n",
    "\tif (os.path.isfile(textGridStr)):\n",
    "\t\tgrid=textgrid.TextGrid.fromFile(textGridStr)\n",
    "\t\trutaT, archivoT = os.path.split(textGridStr)\n",
    "\t\tprint(\"-- Leído el textGrid: \",archivoT)\n",
    "\telse:\n",
    "\t\trutaT, archivoT = os.path.split(textGridStr)\n",
    "\t\tprint(\"No se ha podido abrir el textGrid: \",textGridStr)\n",
    "\t\tprint(\"-- Se ignora el wav. Pasamos al siguiente\")\n",
    "\t\tcontinue\n",
    "\n",
    "\n",
    "\t# Bucle para calcular ventanas de cada clase\n",
    "\tnumV_OC=0\n",
    "\tnumV_OV=0\n",
    "\tnumV_NC=0\n",
    "\tnumV_NV=0\n",
    "\tnumV_SL=0\n",
    "\n",
    "\t# grid=textgrid.TextGrid.fromFile(textGridStr)\n",
    "\t\n",
    "\tnIntervalos=len(grid[tierRMS].intervals)-1\n",
    "\tfor intervalo in (range(nIntervalos)):\n",
    "\t\tphone=grid[tierPhones][intervalo].mark\n",
    "\t\trms=int(grid[tierRMS][intervalo].mark)\n",
    "\t\tif len(grid[tierNlce][intervalo].mark)>0:\n",
    "\t\t\tnlceText=grid[tierNlce][intervalo].mark\n",
    "\t\t\tnlceText=nlceText.split('.')[0]\n",
    "\t\t\tnlce=int(nlceText)\n",
    "\t\telse:\n",
    "\t\t\tnlce=0\n",
    "\t\tsc=subclas(phone, nlce, rms)\n",
    "\t\tmin=grid[tierRMS][intervalo].minTime\n",
    "\t\tmax=grid[tierRMS][intervalo].maxTime\n",
    "\t\tduracion=max-min\n",
    "\t\tnv=int(round((duracion-0.015)/0.01))\n",
    "\t\tif sc==\"SL\":\n",
    "\t\t\tnumV_SL=numV_SL+nv\n",
    "\t\telif sc==\"OV\":\n",
    "\t\t\tnumV_OV=numV_OV+nv\n",
    "\t\telif sc==\"OC\":\n",
    "\t\t\tnumV_OC=numV_OC+nv\n",
    "\t\telif sc==\"NV\":\n",
    "\t\t\tnumV_NV=numV_NV+nv\n",
    "\t\telif sc==\"NC\":\n",
    "\t\t\tnumV_NC=numV_NC+nv\n",
    "\t\telse:\n",
    "\t\t\tnumV_NC=numV_NC\n",
    "\n",
    "\t# zz por aquí voy. Ahora tengo que controlar el número de ventanas de cada clase. y no seguir si ha llegado al límite\n",
    "\tmaximos=[numV_NC, numV_OC, numV_NV, numV_OV,numV_SL]\n",
    "\t# print(maximos)\n",
    "\telementoMenor=np.argmin(maximos)\n",
    "\telementoMayor=np.argmax(maximos)\n",
    "\n",
    "\tif balanceado:\n",
    "\t\tmaxVentanas=maximos[elementoMenor]\n",
    "\t\tif numClases==3:\n",
    "\t\t\tmaxVentanasSil=maxVentanas*2\n",
    "\t\telif numClases==5:\n",
    "\t\t\tmaxVentanasSil=maxVentanas\n",
    "\t\telse:\n",
    "\t\t\tprint(\"Error: solo puede hacer tres o cinco clases\")\n",
    "\t\t\texit()\n",
    "\telse:\n",
    "\t\tmaxVentanas=maximos[elementoMayor]\n",
    "\n",
    "\n",
    "\tprint(\"Max. NC: \", numV_NC)\n",
    "\tprint(\"Max. OC: \", numV_OC)\n",
    "\tprint(\"Max. NV: \", numV_NV)\n",
    "\tprint(\"Max. OV: \", numV_OV)\n",
    "\tprint(\"Max. SL: \", numV_SL)\n",
    "\tprint(\"Max ventanas: \",maxVentanas)\n",
    "\n",
    "\tnumV_NC=0\n",
    "\tnumV_OC=0\n",
    "\tnumV_NV=0\n",
    "\tnumV_OV=0\n",
    "\tnumV_SL=0\n",
    "\n",
    "\tnIntervalos=len(grid[tierRMS].intervals)-1\n",
    "\tfor intervalo in (range(nIntervalos)):\n",
    "\t\tif (intervalo > -1):\n",
    "\t\t\tmin=grid[tierRMS][intervalo].minTime\n",
    "\t\t\tmax=grid[tierRMS][intervalo].maxTime\n",
    "\t\t\tduracion=max-min\n",
    "\t\t\tnv=int(round((duracion-0.015)/0.01))\n",
    "\t\t\tbeginFragment=int(round(min*rate))\n",
    "\t\t\tendFragment=int(round(max*rate))\n",
    "\t\t\tfragmento=sig[beginFragment:endFragment]\n",
    "\t\t\tphone=grid[tierPhones][intervalo].mark\n",
    "\t\t\trms=int(grid[tierRMS][intervalo].mark)\n",
    "\t\t\tif len(grid[tierNlce][intervalo].mark)>0:\n",
    "\t\t\t\tnlceText=grid[tierNlce][intervalo].mark\n",
    "\t\t\t\tnlceText=nlceText.split('.')[0]\n",
    "\t\t\t\tnlce=int(nlceText)\n",
    "\t\t\telse:\n",
    "\t\t\t\tnlce=0\n",
    "\t\t\t\n",
    "\t\t\tsc=subclas(phone, nlce, rms)\n",
    "\t\t\t\n",
    "\t\t\t# Si ya tenemos el máximo de ventanas de una cat, pasamos al sig. intervalo\n",
    "\t\t\tif sc==\"SL\":\n",
    "\t\t\t\tif numV_SL > maxVentanasSil:\n",
    "\t\t\t\t\tcontinue\n",
    "\t\t\t\telse:\n",
    "\t\t\t\t\tnumV_SL=numV_SL+nv\n",
    "\t\t\tif sc==\"OC\":\n",
    "\t\t\t\tif numV_OC > maxVentanas:\n",
    "\t\t\t\t\tcontinue\n",
    "\t\t\t\telse:\n",
    "\t\t\t\t\tnumV_OC=numV_OC+nv\n",
    "\t\t\tif sc==\"OV\":\n",
    "\t\t\t\tif numV_OV > maxVentanas:\n",
    "\t\t\t\t\tcontinue\n",
    "\t\t\t\telse:\n",
    "\t\t\t\t\tnumV_OV=numV_OV+nv\n",
    "\t\t\tif sc==\"NC\":\n",
    "\t\t\t\tif numV_NC > maxVentanas:\n",
    "\t\t\t\t\tcontinue\n",
    "\t\t\t\telse:\n",
    "\t\t\t\t\tnumV_NC=numV_NC+nv\n",
    "\t\t\tif sc==\"NV\":\n",
    "\t\t\t\tif numV_NV > maxVentanas:\n",
    "\t\t\t\t\tcontinue\n",
    "\t\t\t\telse:\n",
    "\t\t\t\t\tnumV_NV=numV_NV+nv\n",
    "\n",
    "\n",
    "\t\t\tif duracion>0 and len(featuresTodosIntervalos)==0 and sc!=\"\":\n",
    "\t\t\t\tfeatures=allFeatures(rate,fragmento) # Archivo de Audio\n",
    "\t\t\t\tfeatures=defineColumnaRow(features, sc, archivoAudio, contador)\n",
    "\t\t\t\tfeaturesTodosIntervalos=features\n",
    "\t\t\t\tcontador=contador+len(features)\n",
    "\t\t\t\t# print(\"Ventana inicial: \",contador,\"Sc:\",sc, \" Inicio: \",min,\" Fin: \",max)\n",
    "\n",
    "\t\t\telif duracion>0 and len(featuresTodosIntervalos)>0 and sc!=\"\":\t\t\t\t\n",
    "\t\t\t\tfeatures=allFeatures(rate,fragmento) # Archivo de Audio\n",
    "\t\t\t\tfeatures=defineColumnaRow(features, sc, archivoAudio, contador)\n",
    "\t\t\t\tcontador=contador+len(features)\n",
    "\t\t\t\tfeaturesTodosIntervalos = pd.concat([featuresTodosIntervalos, features])\n",
    "\t\t\t\t# print(\"Ventana inicial: \",contador,\"Sc:\",sc, \" Inicio: \",min,\" Fin: \",max)\n",
    "\t\t\telse:\n",
    "\t\t\t\ta=1\n",
    "\t\t\t\t#print(\"Intervalo no anotado: se ignora. Inicio: \",min,\" Fin: \",max)\n",
    "\ttotalVentanas=totalVentanas+contador\n",
    "\tventanasNuevas=ventanasNuevas+contador\n",
    "\tprint(\"-- Ventanas procesadas en el último audio: \",contador)\n",
    "\tprint(\"-- Ventanas procesadas en total: \", totalVentanas)\n",
    "\t\t\n"
   ]
  },
  {
   "cell_type": "code",
   "execution_count": null,
   "metadata": {},
   "outputs": [],
   "source": []
  },
  {
   "cell_type": "code",
   "execution_count": null,
   "metadata": {},
   "outputs": [],
   "source": []
  },
  {
   "cell_type": "code",
   "execution_count": null,
   "metadata": {},
   "outputs": [],
   "source": []
  },
  {
   "cell_type": "code",
   "execution_count": null,
   "metadata": {},
   "outputs": [],
   "source": []
  },
  {
   "cell_type": "code",
   "execution_count": null,
   "metadata": {},
   "outputs": [],
   "source": []
  },
  {
   "cell_type": "code",
   "execution_count": 10,
   "metadata": {},
   "outputs": [
    {
     "data": {
      "text/plain": [
       "False"
      ]
     },
     "execution_count": 10,
     "metadata": {},
     "output_type": "execute_result"
    }
   ],
   "source": [
    "not len(audio_list)"
   ]
  },
  {
   "cell_type": "code",
   "execution_count": 3,
   "metadata": {},
   "outputs": [],
   "source": [
    "def moving_window(audio, width=1000, overlap=400):\n",
    "    audio = audio.tolist()\n",
    "    return [audio[i : i + width] for i in range(0, len(audio), width-overlap)]"
   ]
  },
  {
   "cell_type": "code",
   "execution_count": 4,
   "metadata": {},
   "outputs": [
    {
     "name": "stdout",
     "output_type": "stream",
     "text": [
      "665571\n",
      "1102\n",
      "441\n",
      "<class 'list'>\n"
     ]
    }
   ],
   "source": [
    "samplerate, audio_data = wavfile.read(AUDIO_PATH)\n",
    "print(len(audio_data))\n",
    "# Transform length and overlap from ms to samples\n",
    "win_length_samples = int(WIN_LENGTH * samplerate / 1000)\n",
    "win_overlap_samples = int(WIN_OVERLAP * samplerate / 1000)\n",
    "print(win_length_samples)\n",
    "print(win_overlap_samples)\n",
    "\n",
    "audio_win =  moving_window(audio_data, width=win_length_samples, overlap=win_overlap_samples)\n",
    "print(type(audio_win))"
   ]
  },
  {
   "cell_type": "code",
   "execution_count": 7,
   "metadata": {},
   "outputs": [
    {
     "ename": "SyntaxError",
     "evalue": "invalid character '¶' (U+00B6) (600687401.py, line 10)",
     "output_type": "error",
     "traceback": [
      "\u001b[1;36m  Cell \u001b[1;32mIn [7], line 10\u001b[1;36m\u001b[0m\n\u001b[1;33m    librosa.feature.mfcc(y=None, sr=samplerate, n_mfcc=NUM_MFCC, dct_type=2, norm='ortho', lifter=0, **kwargs)[source]¶\u001b[0m\n\u001b[1;37m                                                                                                                      ^\u001b[0m\n\u001b[1;31mSyntaxError\u001b[0m\u001b[1;31m:\u001b[0m invalid character '¶' (U+00B6)\n"
     ]
    }
   ],
   "source": [
    "# def compute_features(audio, samplerate):\n",
    "audio = audio_win\n",
    "\n",
    "feat_audio = []\n",
    "\n",
    "#for chunk in audio:\n",
    "chunk = audio[0]\n",
    "if 'mfcc' in FEATURES:\n",
    "    # Calculate mfcc for audio\n",
    "    librosa.feature.mfcc(y=audio_win, sr=samplerate, n_mfcc=NUM_MFCC, dct_type=2, norm='ortho', lifter=0)\n",
    "\n",
    "elif 'delta' in FEATURES:\n",
    "    # do nothing\n",
    "    8\n"
   ]
  },
  {
   "cell_type": "code",
   "execution_count": 36,
   "metadata": {},
   "outputs": [
    {
     "name": "stdout",
     "output_type": "stream",
     "text": [
      "[[ 4.86895996e+02  5.04622528e+02  4.94123230e+02 ...  3.78741302e+02\n",
      "   3.73278259e+02  3.86671753e+02]\n",
      " [ 8.32832870e+01  8.94101410e+01  8.41661148e+01 ...  1.53775215e+01\n",
      "   9.10860062e+00  2.74301033e+01]\n",
      " [-1.21022902e+01 -2.49979515e+01 -2.47444077e+01 ...  1.08155813e+01\n",
      "   7.34319687e+00  2.38158760e+01]\n",
      " ...\n",
      " [-5.59439242e-01 -7.57081389e-01  2.49762490e-01 ... -1.51912427e+00\n",
      "  -1.48723435e+00  1.65443528e+00]\n",
      " [-9.99189377e+00 -7.82266235e+00 -5.94357204e+00 ... -1.91025078e+00\n",
      "  -1.23540735e+00  9.63437200e-01]\n",
      " [-1.47784491e+01 -1.05038767e+01 -9.53153038e+00 ... -2.38252163e+00\n",
      "  -1.03475046e+00  8.92013788e-01]]\n",
      "1300\n",
      "(14, 1300)\n"
     ]
    }
   ],
   "source": [
    "f_mfcc = librosa.feature.mfcc(y=np.array(audio_data, dtype=np.single), sr=samplerate, n_mfcc=NUM_MFCC, \n",
    "                            win_length=win_length_samples)\n",
    "\n",
    "print(f_mfcc)\n",
    "print(len(f_mfcc[0]))                        \n",
    "print(f_mfcc.shape)"
   ]
  },
  {
   "cell_type": "code",
   "execution_count": 29,
   "metadata": {},
   "outputs": [
    {
     "data": {
      "text/plain": [
       "665571"
      ]
     },
     "execution_count": 29,
     "metadata": {},
     "output_type": "execute_result"
    }
   ],
   "source": [
    "len(np.array(audio_data, dtype=np.single))"
   ]
  },
  {
   "cell_type": "code",
   "execution_count": null,
   "metadata": {},
   "outputs": [],
   "source": []
  },
  {
   "cell_type": "code",
   "execution_count": null,
   "metadata": {},
   "outputs": [],
   "source": []
  },
  {
   "cell_type": "code",
   "execution_count": null,
   "metadata": {},
   "outputs": [],
   "source": []
  },
  {
   "cell_type": "code",
   "execution_count": null,
   "metadata": {},
   "outputs": [],
   "source": []
  }
 ],
 "metadata": {
  "kernelspec": {
   "display_name": "Python 3.10.4 ('nasal')",
   "language": "python",
   "name": "python3"
  },
  "language_info": {
   "codemirror_mode": {
    "name": "ipython",
    "version": 3
   },
   "file_extension": ".py",
   "mimetype": "text/x-python",
   "name": "python",
   "nbconvert_exporter": "python",
   "pygments_lexer": "ipython3",
   "version": "3.10.6"
  },
  "orig_nbformat": 4,
  "vscode": {
   "interpreter": {
    "hash": "6c0a93ae320fb71ae3a95ec90f896cb3e9504b1a041002f4f6a3efaab5f85a4e"
   }
  }
 },
 "nbformat": 4,
 "nbformat_minor": 2
}
